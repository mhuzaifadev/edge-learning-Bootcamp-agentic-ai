{
  "nbformat": 4,
  "nbformat_minor": 0,
  "metadata": {
    "colab": {
      "provenance": []
    },
    "kernelspec": {
      "name": "python3",
      "display_name": "Python 3"
    },
    "language_info": {
      "name": "python"
    }
  },
  "cells": [
    {
      "cell_type": "markdown",
      "source": [
        "# **Decision Controls & Loops**\n",
        "\n",
        "> Last time, we learned how programs decide once using `if`, `elif`, and `else`.\n",
        "> Today we’ll learn how to make them decide again and again — that’s what loops are for!"
      ],
      "metadata": {
        "id": "FY6P8gUlc4BO"
      }
    },
    {
      "cell_type": "markdown",
      "source": [
        "### QUICK RECAP"
      ],
      "metadata": {
        "id": "24nmVd06dFLU"
      }
    },
    {
      "cell_type": "code",
      "execution_count": 1,
      "metadata": {
        "colab": {
          "base_uri": "https://localhost:8080/"
        },
        "id": "hAqKXVXOchsV",
        "outputId": "ffb8f30e-a4da-4f25-abd2-10971eb32c9f"
      },
      "outputs": [
        {
          "output_type": "stream",
          "name": "stdout",
          "text": [
            "Enter your marks: 55\n",
            "Keep Trying 😊\n",
            "You can use the app!\n"
          ]
        }
      ],
      "source": [
        "# A quick reminder:\n",
        "marks = int(input(\"Enter your marks: \"))\n",
        "\n",
        "if marks >= 80:\n",
        "    print(\"Excellent!\")\n",
        "elif marks >= 60:\n",
        "    print(\"Good Job!\")\n",
        "else:\n",
        "    print(\"Keep Trying 😊\")\n",
        "\n",
        "# Logical operators recap\n",
        "age = 15\n",
        "has_permission = True\n",
        "\n",
        "if age >= 13 and has_permission:\n",
        "    print(\"You can use the app!\")\n",
        "else:\n",
        "    print(\"Access denied!\")\n"
      ]
    },
    {
      "cell_type": "markdown",
      "source": [
        "## **Intro to Loops — Doing Things Repeatedly**\n",
        "\n",
        "### **🧩 Why Loops?**\n",
        "\n",
        "Instead of writing the same code many times, we tell Python to repeat it."
      ],
      "metadata": {
        "id": "xKIgAKufdPl8"
      }
    },
    {
      "cell_type": "markdown",
      "source": [
        "---\n",
        "## **The `for` Loop**\n",
        "\n",
        "> A for loop is great when you know how many times to repeat something."
      ],
      "metadata": {
        "id": "CSpZREYxdYdH"
      }
    },
    {
      "cell_type": "code",
      "source": [
        "# Print \"Hello\" 5 times\n",
        "for i in range(5):\n",
        "    print(\"Hello! This is loop number\", i + 1)\n"
      ],
      "metadata": {
        "colab": {
          "base_uri": "https://localhost:8080/"
        },
        "id": "dxgvZr4kckaL",
        "outputId": "1c84fa61-62eb-4bfe-b654-c8c5e441eea7"
      },
      "execution_count": 2,
      "outputs": [
        {
          "output_type": "stream",
          "name": "stdout",
          "text": [
            "Hello! This is loop number 1\n",
            "Hello! This is loop number 2\n",
            "Hello! This is loop number 3\n",
            "Hello! This is loop number 4\n",
            "Hello! This is loop number 5\n"
          ]
        }
      ]
    },
    {
      "cell_type": "markdown",
      "source": [
        "> `range(5)` means numbers from 0 to 4.\n",
        "\n",
        "> Each time, Python “loops” once."
      ],
      "metadata": {
        "id": "lCknImv0diCd"
      }
    },
    {
      "cell_type": "markdown",
      "source": [
        "### **📈 range() in for Loops**\n",
        "> range(start, stop) creates a list of numbers.\n",
        "\n",
        "> Use it when you want numbers in a loop."
      ],
      "metadata": {
        "id": "1r2me92qeDbg"
      }
    },
    {
      "cell_type": "code",
      "source": [
        "# TODO: With Range alone and then inside Loop"
      ],
      "metadata": {
        "id": "fEnW7OYFeNfI"
      },
      "execution_count": null,
      "outputs": []
    },
    {
      "cell_type": "markdown",
      "source": [
        "### **Challenge: Star Pyramid**\n",
        "\n",
        "Use a loop to print this:\n",
        "```\n",
        "*\n",
        "**\n",
        "***\n",
        "****\n",
        "*****\n",
        "```"
      ],
      "metadata": {
        "id": "kcere_wieXBU"
      }
    },
    {
      "cell_type": "code",
      "source": [
        "# TODO: RunTime in Class"
      ],
      "metadata": {
        "id": "4G2R7olzd9St"
      },
      "execution_count": 4,
      "outputs": []
    },
    {
      "cell_type": "markdown",
      "source": [
        "## **🎲 Looping Through a List**\n",
        "\n"
      ],
      "metadata": {
        "id": "jR9uFDxLexuq"
      }
    },
    {
      "cell_type": "code",
      "source": [
        "fruits = [\"apple\", \"banana\", \"cherry\", \"mango\"]\n",
        "\n",
        "for fruit in fruits:\n",
        "    print(\"I like\", fruit)\n"
      ],
      "metadata": {
        "id": "FCH4T1Dxepve"
      },
      "execution_count": null,
      "outputs": []
    },
    {
      "cell_type": "code",
      "source": [
        "# TODO:\n",
        "# Try:\n",
        "# Make your own list — e.g., favorite games or movies — and loop through them."
      ],
      "metadata": {
        "id": "JLAtgBXte35i"
      },
      "execution_count": 5,
      "outputs": []
    },
    {
      "cell_type": "markdown",
      "source": [
        "### **⛔ Using break and continue**"
      ],
      "metadata": {
        "id": "1SwaKatffC-g"
      }
    },
    {
      "cell_type": "code",
      "source": [
        "for number in range(1, 11):\n",
        "    if number == 5:\n",
        "        print(\"Skipping 5\")\n",
        "        continue   # jump to next loop\n",
        "    if number == 8:\n",
        "        print(\"Stopping at 8\")\n",
        "        break      # exit the loop\n",
        "    print(\"Number:\", number)\n"
      ],
      "metadata": {
        "colab": {
          "base_uri": "https://localhost:8080/"
        },
        "id": "GIzFEWJKe6Xn",
        "outputId": "b8f1db8a-07f4-4f1e-a490-5db213f2db9e"
      },
      "execution_count": 6,
      "outputs": [
        {
          "output_type": "stream",
          "name": "stdout",
          "text": [
            "Number: 1\n",
            "Number: 2\n",
            "Number: 3\n",
            "Number: 4\n",
            "Skipping 5\n",
            "Number: 6\n",
            "Number: 7\n",
            "Stopping at 8\n"
          ]
        }
      ]
    },
    {
      "cell_type": "markdown",
      "source": [
        "### **Loops + Conditionals Together**"
      ],
      "metadata": {
        "id": "FI6zluBQfIcE"
      }
    },
    {
      "cell_type": "markdown",
      "source": [
        "**Example 1. Print Even Numbers**"
      ],
      "metadata": {
        "id": "98582bh9fWLc"
      }
    },
    {
      "cell_type": "code",
      "source": [
        "for n in range(1, 21):\n",
        "    if n % 2 == 0:\n",
        "        print(n, \"is even\")"
      ],
      "metadata": {
        "colab": {
          "base_uri": "https://localhost:8080/"
        },
        "id": "XyREF92hfGsj",
        "outputId": "74dc33d4-17ba-4f87-9312-453f04133a63"
      },
      "execution_count": 7,
      "outputs": [
        {
          "output_type": "stream",
          "name": "stdout",
          "text": [
            "2 is even\n",
            "4 is even\n",
            "6 is even\n",
            "8 is even\n",
            "10 is even\n",
            "12 is even\n",
            "14 is even\n",
            "16 is even\n",
            "18 is even\n",
            "20 is even\n"
          ]
        }
      ]
    },
    {
      "cell_type": "markdown",
      "source": [
        "**Example 2. Counting Letters**"
      ],
      "metadata": {
        "id": "M_X44cbNfbav"
      }
    },
    {
      "cell_type": "code",
      "source": [
        "word = input(\"Enter a word: \")\n",
        "count = 0\n",
        "\n",
        "for letter in word:\n",
        "    count += 1\n",
        "\n",
        "print(\"That word has\", count, \"letters.\")\n"
      ],
      "metadata": {
        "colab": {
          "base_uri": "https://localhost:8080/"
        },
        "id": "j9EUbfFkfRXD",
        "outputId": "f3fd26f1-cfb0-4737-a0a2-62cd9891bf22"
      },
      "execution_count": 8,
      "outputs": [
        {
          "output_type": "stream",
          "name": "stdout",
          "text": [
            "Enter a word: Huzaifa\n",
            "That word has 7 letters.\n"
          ]
        }
      ]
    },
    {
      "cell_type": "markdown",
      "source": [
        "### **Mini Projects (Hands-On Practice)**"
      ],
      "metadata": {
        "id": "xfG-CFP5frzM"
      }
    },
    {
      "cell_type": "markdown",
      "source": [
        "**Project 1 — Number Guessing**"
      ],
      "metadata": {
        "id": "swId1sLIfwXF"
      }
    },
    {
      "cell_type": "code",
      "source": [
        "import random\n",
        "\n",
        "secret = random.randint(1, 20)\n",
        "tries = 0\n",
        "\n",
        "print(\"🎯 Guess the secret number between 1 and 20!\")\n",
        "\n",
        "while True:\n",
        "    guess = int(input(\"Your guess: \"))\n",
        "    tries += 1\n",
        "\n",
        "    if guess == secret:\n",
        "        print(\"🎉 Correct! You guessed it in\", tries, \"tries.\")\n",
        "        break\n",
        "    elif guess < secret:\n",
        "        print(\"Too low! Try again.\")\n",
        "    else:\n",
        "        print(\"Too high! Try again.\")\n"
      ],
      "metadata": {
        "colab": {
          "base_uri": "https://localhost:8080/"
        },
        "id": "kVqcwZcdfgX7",
        "outputId": "e9c23196-6aaa-4b92-a6ad-e31f9448d55a"
      },
      "execution_count": 9,
      "outputs": [
        {
          "output_type": "stream",
          "name": "stdout",
          "text": [
            "🎯 Guess the secret number between 1 and 20!\n",
            "Your guess: 8\n",
            "Too high! Try again.\n",
            "Your guess: 4\n",
            "Too high! Try again.\n",
            "Your guess: 2\n",
            "Too high! Try again.\n",
            "Your guess: 1\n",
            "🎉 Correct! You guessed it in 4 tries.\n"
          ]
        }
      ]
    },
    {
      "cell_type": "markdown",
      "source": [
        "**Project 2 — Simple ATM Menu**"
      ],
      "metadata": {
        "id": "DzVbnVzAf8Xv"
      }
    },
    {
      "cell_type": "code",
      "source": [
        "balance = 1000\n",
        "\n",
        "while True:\n",
        "    print(\"\\nATM Menu:\")\n",
        "    print(\"1. Check Balance\")\n",
        "    print(\"2. Deposit Money\")\n",
        "    print(\"3. Withdraw Money\")\n",
        "    print(\"4. Exit\")\n",
        "\n",
        "    choice = input(\"Choose an option (1-4): \")\n",
        "\n",
        "    if choice == \"1\":\n",
        "        print(\"Your balance is Rs.\", balance)\n",
        "    elif choice == \"2\":\n",
        "        amount = int(input(\"Enter deposit amount: \"))\n",
        "        balance += amount\n",
        "        print(\"New balance:\", balance)\n",
        "    elif choice == \"3\":\n",
        "        amount = int(input(\"Enter withdrawal amount: \"))\n",
        "        if amount <= balance:\n",
        "            balance -= amount\n",
        "            print(\"New balance:\", balance)\n",
        "        else:\n",
        "            print(\"Not enough funds!\")\n",
        "    elif choice == \"4\":\n",
        "        print(\"Thank you for using our ATM 💳\")\n",
        "        break\n",
        "    else:\n",
        "        print(\"Invalid choice, please try again.\")\n"
      ],
      "metadata": {
        "colab": {
          "base_uri": "https://localhost:8080/"
        },
        "id": "_33q3BgLf1Md",
        "outputId": "439340b4-0897-49bc-f706-bd65e3f9f0df"
      },
      "execution_count": 10,
      "outputs": [
        {
          "output_type": "stream",
          "name": "stdout",
          "text": [
            "\n",
            "ATM Menu:\n",
            "1. Check Balance\n",
            "2. Deposit Money\n",
            "3. Withdraw Money\n",
            "4. Exit\n",
            "Choose an option (1-4): 1\n",
            "Your balance is Rs. 1000\n",
            "\n",
            "ATM Menu:\n",
            "1. Check Balance\n",
            "2. Deposit Money\n",
            "3. Withdraw Money\n",
            "4. Exit\n",
            "Choose an option (1-4): 4\n",
            "Thank you for using our ATM 💳\n"
          ]
        }
      ]
    },
    {
      "cell_type": "code",
      "source": [],
      "metadata": {
        "id": "19pbxcnff_Xu"
      },
      "execution_count": null,
      "outputs": []
    },
    {
      "cell_type": "markdown",
      "source": [
        "## **The `while` Loop — Repeat Until Something Happens**"
      ],
      "metadata": {
        "id": "95iZdc6egNJ6"
      }
    },
    {
      "cell_type": "code",
      "source": [
        "count = 1\n",
        "while count <= 5:\n",
        "    print(\"Counting:\", count)\n",
        "    count += 1  # increase by 1\n"
      ],
      "metadata": {
        "colab": {
          "base_uri": "https://localhost:8080/"
        },
        "id": "NiTMwAQTgVi2",
        "outputId": "411ec9c9-522c-47f5-ea66-0fb42d5e078c"
      },
      "execution_count": 11,
      "outputs": [
        {
          "output_type": "stream",
          "name": "stdout",
          "text": [
            "Counting: 1\n",
            "Counting: 2\n",
            "Counting: 3\n",
            "Counting: 4\n",
            "Counting: 5\n"
          ]
        }
      ]
    },
    {
      "cell_type": "markdown",
      "source": [
        "### **Example Task: Guess Favorite Color**"
      ],
      "metadata": {
        "id": "TDM3xJzpgg9U"
      }
    },
    {
      "cell_type": "code",
      "source": [
        "color = \"\"\n",
        "\n",
        "while color != \"blue\":\n",
        "    color = input(\"Guess my favorite color: \")\n",
        "\n",
        "print(\"You got it! 🎉\")\n"
      ],
      "metadata": {
        "colab": {
          "base_uri": "https://localhost:8080/"
        },
        "id": "cjAJ1arHgXQf",
        "outputId": "1f6e52ac-823e-4f9e-a24e-f6da77c48bc1"
      },
      "execution_count": 12,
      "outputs": [
        {
          "output_type": "stream",
          "name": "stdout",
          "text": [
            "Guess my favorite color: blue\n",
            "You got it! 🎉\n"
          ]
        }
      ]
    },
    {
      "cell_type": "markdown",
      "source": [
        "**Mini-Task:**\n",
        "> Write a loop that counts down from 10 to 1 and prints “Blast Off! 🚀” at the end"
      ],
      "metadata": {
        "id": "UJt4pGN-gxur"
      }
    },
    {
      "cell_type": "code",
      "source": [
        "# TODO:"
      ],
      "metadata": {
        "id": "422A8cdNhKiL"
      },
      "execution_count": 13,
      "outputs": []
    },
    {
      "cell_type": "markdown",
      "source": [
        "## ***Real-World Use Case: Seating Arrangement Generator***\n",
        "\n",
        ">💡 Scenario:\n",
        "\n",
        "> Imagine you’re helping your school organize an event — maybe a science fair or AI bootcamp!\n",
        "> You need to print seat labels for different rows and sections, automatically."
      ],
      "metadata": {
        "id": "b9QPi4r5iUfN"
      }
    },
    {
      "cell_type": "code",
      "source": [
        "# 🎟️ Real-World Project: Smart Seating Arrangement Generator\n",
        "# Demonstrates nested loops + nested if-else + real-world logic\n",
        "\n",
        "print(\"🎪 Welcome to the Smart Event Seating Generator 🎫\")\n",
        "\n",
        "rows = int(input(\"Enter total number of rows: \"))\n",
        "seats_per_row = int(input(\"Enter number of seats per row: \"))\n",
        "\n",
        "for row in range(1, rows + 1):  # Outer loop → each row\n",
        "    print(f\"\\nRow {row} seating plan:\")\n",
        "\n",
        "    seat = 1\n",
        "    while seat <= seats_per_row:  # Inner loop → seats in a row\n",
        "\n",
        "        # 🎯 Nested if-else for decision control\n",
        "        if row == 1:\n",
        "            if seat <= 3:\n",
        "                print(f\"🎖️ VIP-Front-{row}-{seat}\", end=\"  \")\n",
        "            else:\n",
        "                print(f\"VIP-Regular-{row}-{seat}\", end=\"  \")\n",
        "        elif row <= 3:\n",
        "            if seat % 2 == 0:\n",
        "                print(f\"💺 Premium-{row}-{seat}-Window\", end=\"  \")\n",
        "            else:\n",
        "                print(f\"Premium-{row}-{seat}-Aisle\", end=\"  \")\n",
        "        else:\n",
        "            if seat % 2 == 0:\n",
        "                print(f\"General-{row}-{seat}-Window\", end=\"  \")\n",
        "            else:\n",
        "                print(f\"General-{row}-{seat}-Middle\", end=\"  \")\n",
        "\n",
        "        seat += 1  # move to next seat\n",
        "\n",
        "print(\"\\n\\n✅ All seat labels generated successfully!\")\n"
      ],
      "metadata": {
        "colab": {
          "base_uri": "https://localhost:8080/"
        },
        "id": "3NCOEdJ4i2Fp",
        "outputId": "ca8208c2-5924-42e8-e499-a6f0c56ebee1"
      },
      "execution_count": 14,
      "outputs": [
        {
          "output_type": "stream",
          "name": "stdout",
          "text": [
            "🎪 Welcome to the Smart Event Seating Generator 🎫\n",
            "Enter total number of rows: 8\n",
            "Enter number of seats per row: 6\n",
            "\n",
            "Row 1 seating plan:\n",
            "🎖️ VIP-Front-1-1  🎖️ VIP-Front-1-2  🎖️ VIP-Front-1-3  VIP-Regular-1-4  VIP-Regular-1-5  VIP-Regular-1-6  \n",
            "Row 2 seating plan:\n",
            "Premium-2-1-Aisle  💺 Premium-2-2-Window  Premium-2-3-Aisle  💺 Premium-2-4-Window  Premium-2-5-Aisle  💺 Premium-2-6-Window  \n",
            "Row 3 seating plan:\n",
            "Premium-3-1-Aisle  💺 Premium-3-2-Window  Premium-3-3-Aisle  💺 Premium-3-4-Window  Premium-3-5-Aisle  💺 Premium-3-6-Window  \n",
            "Row 4 seating plan:\n",
            "General-4-1-Middle  General-4-2-Window  General-4-3-Middle  General-4-4-Window  General-4-5-Middle  General-4-6-Window  \n",
            "Row 5 seating plan:\n",
            "General-5-1-Middle  General-5-2-Window  General-5-3-Middle  General-5-4-Window  General-5-5-Middle  General-5-6-Window  \n",
            "Row 6 seating plan:\n",
            "General-6-1-Middle  General-6-2-Window  General-6-3-Middle  General-6-4-Window  General-6-5-Middle  General-6-6-Window  \n",
            "Row 7 seating plan:\n",
            "General-7-1-Middle  General-7-2-Window  General-7-3-Middle  General-7-4-Window  General-7-5-Middle  General-7-6-Window  \n",
            "Row 8 seating plan:\n",
            "General-8-1-Middle  General-8-2-Window  General-8-3-Middle  General-8-4-Window  General-8-5-Middle  General-8-6-Window  \n",
            "\n",
            "✅ All seat labels generated successfully!\n"
          ]
        }
      ]
    },
    {
      "cell_type": "markdown",
      "source": [
        "**What's happening Here?**\n",
        "\n",
        "<br>\n",
        "\n",
        "| Concept                | Explanation                                                                                                  |\n",
        "| ---------------------- | ------------------------------------------------------------------------------------------------------------ |\n",
        "| **Outer `for` loop**   | Goes through rows (like levels or sections).                                                                 |\n",
        "| **Inner `while` loop** | Goes through seats in each row.                                                                              |\n",
        "| **Nested `if–else`**   | Makes decisions *inside decisions*: e.g., *“If it’s a VIP row, check if it’s a front seat or regular seat.”* |\n",
        "| **String formatting**  | Builds readable seat labels (e.g., `VIP-Front-1-2`).                                                         |\n",
        "\n",
        "<br>\n",
        "\n",
        "---\n",
        "\n",
        "> This is how computers decide seat labels, airplane tickets, or exam roll numbers — They use nested loops to go through every position, and nested if–else to apply different rules for each case.\n",
        "\n",
        "<br>\n",
        "<hr>\n"
      ],
      "metadata": {
        "id": "B8MK6HtYi8ad"
      }
    },
    {
      "cell_type": "markdown",
      "metadata": {
        "id": "aOSm_Zx7PXxx"
      },
      "source": [
        "## **Workflow explanation!**\n",
        "\n",
        "<img src = \"https://www.codingem.com/wp-content/uploads/2021/09/flowchart-for-loop.003-1024x576.jpeg\">"
      ]
    },
    {
      "cell_type": "markdown",
      "source": [
        "**✅ Today You Learned**\n",
        "\n",
        "* For loops and while loops\n",
        "* How to use break and continue\n",
        "* How to combine conditionals + loops\n",
        "* Built real mini-projects that “think” and “repeat”\n",
        "\n"
      ],
      "metadata": {
        "id": "RpiSiEQdg73l"
      }
    },
    {
      "cell_type": "markdown",
      "source": [],
      "metadata": {
        "id": "Moynl_twjVo1"
      }
    },
    {
      "cell_type": "code",
      "source": [],
      "metadata": {
        "id": "fzObFTmhgoYo"
      },
      "execution_count": null,
      "outputs": []
    }
  ]
}