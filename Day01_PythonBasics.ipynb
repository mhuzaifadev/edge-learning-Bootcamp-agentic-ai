{
  "nbformat": 4,
  "nbformat_minor": 0,
  "metadata": {
    "colab": {
      "provenance": []
    },
    "kernelspec": {
      "name": "python3",
      "display_name": "Python 3"
    },
    "language_info": {
      "name": "python"
    }
  },
  "cells": [
    {
      "cell_type": "markdown",
      "source": [
        "# **Day 1 – Getting Started with Python & Organising Data**"
      ],
      "metadata": {
        "id": "LJW7uhqo5_6i"
      }
    },
    {
      "cell_type": "markdown",
      "source": [
        "## **Welcome to Python!**\n",
        "\n",
        "The `print()` function tells Python to display something on the screen. It's our first command!"
      ],
      "metadata": {
        "id": "gDyxZS6F54Fl"
      }
    },
    {
      "cell_type": "code",
      "source": [
        "# Welcome message\n",
        "print(\"👋 Hello, Python!\")\n",
        "print(\"Let's learn how to code together!\")"
      ],
      "metadata": {
        "colab": {
          "base_uri": "https://localhost:8080/"
        },
        "id": "BafHwQhe54gm",
        "outputId": "11a6d5e8-5817-4b73-fc09-bbac3bfc6e13"
      },
      "execution_count": 1,
      "outputs": [
        {
          "output_type": "stream",
          "name": "stdout",
          "text": [
            "👋 Hello, Python!\n",
            "Let's learn how to code together!\n"
          ]
        }
      ]
    },
    {
      "cell_type": "code",
      "source": [
        "print(\"My name is Huzaifa\")"
      ],
      "metadata": {
        "colab": {
          "base_uri": "https://localhost:8080/"
        },
        "id": "IGUfhv3HmDdY",
        "outputId": "c69a5364-9cb2-43c8-af11-464193e7e0b2"
      },
      "execution_count": 2,
      "outputs": [
        {
          "output_type": "stream",
          "name": "stdout",
          "text": [
            "My name is Huzaifa\n"
          ]
        }
      ]
    },
    {
      "cell_type": "markdown",
      "source": [
        "## **Variables and Data Types**"
      ],
      "metadata": {
        "id": "Aan7oBcp6dZR"
      }
    },
    {
      "cell_type": "markdown",
      "source": [
        "🧠 Quick Concepts:\n",
        "\n",
        "- Integers (`int`) are whole numbers.\n",
        "- Floats are decimal numbers.\n",
        "- Strings (`str`) are words or sentences.\n",
        "- Booleans (`bool`) are True/False values.\n",
        "\n",
        "✅ Try It Yourself!\n",
        "Change the values above to match your `name`, `age`, and `height`!"
      ],
      "metadata": {
        "id": "EBxYRS8_6d8U"
      }
    },
    {
      "cell_type": "code",
      "source": [
        "# Integer\n",
        "age = 24.0\n",
        "# Float\n",
        "height = 5.1\n",
        "# String\n",
        "name = \"Huzaifa\"\n",
        "# Boolean\n",
        "is_student = True\n",
        "\n",
        "print(\"Name:\", name)\n",
        "print(\"Age:\", age)\n",
        "print(\"Height:\", height)\n",
        "print(\"Student?\", is_student)\n"
      ],
      "metadata": {
        "id": "n2L107s46PI5",
        "colab": {
          "base_uri": "https://localhost:8080/"
        },
        "outputId": "afa2ec31-6b1e-421b-978a-18a59438cfdb"
      },
      "execution_count": 3,
      "outputs": [
        {
          "output_type": "stream",
          "name": "stdout",
          "text": [
            "Name: Huzaifa\n",
            "Age: 24.0\n",
            "Height: 5.1\n",
            "Student? True\n"
          ]
        }
      ]
    },
    {
      "cell_type": "code",
      "source": [
        "type(age)"
      ],
      "metadata": {
        "colab": {
          "base_uri": "https://localhost:8080/"
        },
        "id": "f4soaCDppzX6",
        "outputId": "b64cadf8-7290-4270-ff69-02546113c817"
      },
      "execution_count": 4,
      "outputs": [
        {
          "output_type": "execute_result",
          "data": {
            "text/plain": [
              "float"
            ]
          },
          "metadata": {},
          "execution_count": 4
        }
      ]
    },
    {
      "cell_type": "code",
      "source": [
        "type(name)"
      ],
      "metadata": {
        "colab": {
          "base_uri": "https://localhost:8080/"
        },
        "id": "09yX7gIHoJN1",
        "outputId": "4fbc4c16-4b9d-4f72-bd09-b73055e7d495"
      },
      "execution_count": 5,
      "outputs": [
        {
          "output_type": "execute_result",
          "data": {
            "text/plain": [
              "str"
            ]
          },
          "metadata": {},
          "execution_count": 5
        }
      ]
    },
    {
      "cell_type": "code",
      "source": [
        "print(type(name))\n",
        "print(type(age))\n",
        "print(type(height))\n",
        "print(type(is_student))\n"
      ],
      "metadata": {
        "colab": {
          "base_uri": "https://localhost:8080/"
        },
        "id": "mGkjW2JzKifB",
        "outputId": "2975f0e9-4fc3-450b-81f0-3b34eabe4908"
      },
      "execution_count": 6,
      "outputs": [
        {
          "output_type": "stream",
          "name": "stdout",
          "text": [
            "<class 'str'>\n",
            "<class 'float'>\n",
            "<class 'float'>\n",
            "<class 'bool'>\n"
          ]
        }
      ]
    },
    {
      "cell_type": "markdown",
      "source": [
        "**🧠 Mini Challenge:**\n",
        "\n",
        "Create your own variables — `city`, `temperature`, and `is_raining`.\n",
        "Print a sentence like:\n",
        "> \"It is raining in Karachi today, temperature is 28°C.\""
      ],
      "metadata": {
        "id": "8KyqiyZzKsb8"
      }
    },
    {
      "cell_type": "markdown",
      "source": [
        "## **Arithmetic Operators**"
      ],
      "metadata": {
        "id": "tE6nGPq865KC"
      }
    },
    {
      "cell_type": "markdown",
      "source": [
        "**Example: Mini Calculator**"
      ],
      "metadata": {
        "id": "qnhauybE68D-"
      }
    },
    {
      "cell_type": "code",
      "source": [
        "# Let's build a simple calculator\n",
        "num1 = 12.0\n",
        "num2 = 5\n",
        "\n",
        "add = num1 + num2\n",
        "sub = num1 - num2\n",
        "mul = num1 * num2\n",
        "div = num1 / num2\n",
        "rem = num1 % num2\n",
        "\n",
        "print(\"Addition:\", add)\n",
        "print(\"Subtraction:\", sub)\n",
        "print(\"Multiplication:\", mul)\n",
        "print(\"Division:\", div)\n",
        "print(\"Rem\", rem)"
      ],
      "metadata": {
        "id": "MoRHNoh168UJ",
        "colab": {
          "base_uri": "https://localhost:8080/"
        },
        "outputId": "185d4380-203d-4f27-9ff1-96c19dee69bf"
      },
      "execution_count": 7,
      "outputs": [
        {
          "output_type": "stream",
          "name": "stdout",
          "text": [
            "Addition: 17.0\n",
            "Subtraction: 7.0\n",
            "Multiplication: 60.0\n",
            "Division: 2.4\n",
            "Rem 2.0\n"
          ]
        }
      ]
    },
    {
      "cell_type": "code",
      "source": [
        "int(add)"
      ],
      "metadata": {
        "colab": {
          "base_uri": "https://localhost:8080/"
        },
        "id": "sc30S2WirJxY",
        "outputId": "68ce3d0e-599a-4fba-8261-391e665f0183"
      },
      "execution_count": 8,
      "outputs": [
        {
          "output_type": "execute_result",
          "data": {
            "text/plain": [
              "17"
            ]
          },
          "metadata": {},
          "execution_count": 8
        }
      ]
    },
    {
      "cell_type": "markdown",
      "source": [
        "**🎯 Task:**\n",
        "Try changing num1 and num2. What happens?"
      ],
      "metadata": {
        "id": "CVji0_iO7K-6"
      }
    },
    {
      "cell_type": "markdown",
      "source": [
        "---\n"
      ],
      "metadata": {
        "id": "J3Yu3SHx7UbY"
      }
    },
    {
      "cell_type": "markdown",
      "source": [
        "# **Introduction to Python Data Structures**"
      ],
      "metadata": {
        "id": "EHbtrbKm7W5b"
      }
    },
    {
      "cell_type": "markdown",
      "source": [
        "---\n",
        "\n",
        "## **Lists - Storing Items in Order**\n",
        "\n",
        "🧠 Note: Lists keep items in order and allow duplicates."
      ],
      "metadata": {
        "id": "1mh-PQC57bqZ"
      }
    },
    {
      "cell_type": "code",
      "source": [
        "# A list of student names\n",
        "students = [\"Ali\", \"Sara\", \"Zara\", \"Ahmed\"]\n",
        "print(\"Students:\", students)\n",
        "\n",
        "# Accessing elements\n",
        "print(\"First student:\", students[0])\n",
        "\n",
        "# Adding a student\n",
        "students.append(\"Bilal\")\n",
        "print(\"After adding:\", students)\n",
        "\n",
        "# Removing a student\n",
        "students.remove(\"Sara\")\n",
        "print(\"After removing:\", students)\n"
      ],
      "metadata": {
        "id": "j5jxlbxY7GvE",
        "colab": {
          "base_uri": "https://localhost:8080/"
        },
        "outputId": "1b3c9c99-e1e6-4cd4-fd0c-5395397e33f5"
      },
      "execution_count": 9,
      "outputs": [
        {
          "output_type": "stream",
          "name": "stdout",
          "text": [
            "Students: ['Ali', 'Sara', 'Zara', 'Ahmed']\n",
            "First student: Ali\n",
            "After adding: ['Ali', 'Sara', 'Zara', 'Ahmed', 'Bilal']\n",
            "After removing: ['Ali', 'Zara', 'Ahmed', 'Bilal']\n"
          ]
        }
      ]
    },
    {
      "cell_type": "markdown",
      "source": [
        "## **Tuples - Ordered, Unchangeable**"
      ],
      "metadata": {
        "id": "LQN2e-Sa9bbL"
      }
    },
    {
      "cell_type": "code",
      "source": [
        "dimensions = (1920, 1080)\n",
        "print(\"Screen resolution:\", dimensions)"
      ],
      "metadata": {
        "id": "JqwYbyXM9iJU",
        "colab": {
          "base_uri": "https://localhost:8080/"
        },
        "outputId": "5ffb7f33-6318-4e6d-ffad-b5aeeb180a8a"
      },
      "execution_count": 10,
      "outputs": [
        {
          "output_type": "stream",
          "name": "stdout",
          "text": [
            "Screen resolution: (1920, 1080)\n"
          ]
        }
      ]
    },
    {
      "cell_type": "code",
      "source": [
        "dimensions[0] = 780"
      ],
      "metadata": {
        "colab": {
          "base_uri": "https://localhost:8080/",
          "height": 141
        },
        "id": "_sRbhaTPt9qt",
        "outputId": "4c41a317-9e8a-4dfe-c9f5-717fb48c9995"
      },
      "execution_count": 11,
      "outputs": [
        {
          "output_type": "error",
          "ename": "TypeError",
          "evalue": "'tuple' object does not support item assignment",
          "traceback": [
            "\u001b[0;31m---------------------------------------------------------------------------\u001b[0m",
            "\u001b[0;31mTypeError\u001b[0m                                 Traceback (most recent call last)",
            "\u001b[0;32m/tmp/ipython-input-199963251.py\u001b[0m in \u001b[0;36m<cell line: 0>\u001b[0;34m()\u001b[0m\n\u001b[0;32m----> 1\u001b[0;31m \u001b[0mdimensions\u001b[0m\u001b[0;34m[\u001b[0m\u001b[0;36m0\u001b[0m\u001b[0;34m]\u001b[0m \u001b[0;34m=\u001b[0m \u001b[0;36m780\u001b[0m\u001b[0;34m\u001b[0m\u001b[0;34m\u001b[0m\u001b[0m\n\u001b[0m",
            "\u001b[0;31mTypeError\u001b[0m: 'tuple' object does not support item assignment"
          ]
        }
      ]
    },
    {
      "cell_type": "code",
      "source": [
        "students [0] = \"Huzaifa\""
      ],
      "metadata": {
        "id": "DtGUZVkouIBM"
      },
      "execution_count": 12,
      "outputs": []
    },
    {
      "cell_type": "code",
      "source": [
        "students"
      ],
      "metadata": {
        "colab": {
          "base_uri": "https://localhost:8080/"
        },
        "id": "Rlzo-26yuK7V",
        "outputId": "87d836f9-bd1b-4f90-ba64-5c1d722f3ea5"
      },
      "execution_count": 13,
      "outputs": [
        {
          "output_type": "execute_result",
          "data": {
            "text/plain": [
              "['Huzaifa', 'Zara', 'Ahmed', 'Bilal']"
            ]
          },
          "metadata": {},
          "execution_count": 13
        }
      ]
    },
    {
      "cell_type": "markdown",
      "source": [
        "🧠 Note:\n",
        "\n",
        "- Tuples are like lists, but you cannot change their values after creation.\n",
        "- Use tuples when you want to protect the data from being modified."
      ],
      "metadata": {
        "id": "N8MIjchl9q7M"
      }
    },
    {
      "cell_type": "markdown",
      "source": [
        "---\n",
        "\n",
        "\n",
        "## **Lists vs Tuples - What Can You Change?**"
      ],
      "metadata": {
        "id": "ldpKQonc-0OG"
      }
    },
    {
      "cell_type": "code",
      "source": [
        "# LIST: You can change, add, or remove items\n",
        "fruits_list = [\"apple\", \"banana\", \"cherry\"]\n",
        "print(\"Original List:\", fruits_list)\n",
        "\n",
        "# Changing an item\n",
        "fruits_list[1] = \"blueberry\"\n",
        "print(\"After change:\", fruits_list)\n",
        "\n",
        "# Adding a new item\n",
        "fruits_list.append(\"mango\")\n",
        "print(\"After appending:\", fruits_list)\n",
        "\n",
        "# Removing an item\n",
        "fruits_list.remove(\"apple\")\n",
        "print(\"After removing:\", fruits_list)\n"
      ],
      "metadata": {
        "id": "X_JEEIOf-sPg",
        "colab": {
          "base_uri": "https://localhost:8080/"
        },
        "outputId": "e1ef6998-6568-4e07-ada7-e0139502ec39"
      },
      "execution_count": 14,
      "outputs": [
        {
          "output_type": "stream",
          "name": "stdout",
          "text": [
            "Original List: ['apple', 'banana', 'cherry']\n",
            "After change: ['apple', 'blueberry', 'cherry']\n",
            "After appending: ['apple', 'blueberry', 'cherry', 'mango']\n",
            "After removing: ['blueberry', 'cherry', 'mango']\n"
          ]
        }
      ]
    },
    {
      "cell_type": "code",
      "source": [
        "# TUPLE: You cannot change items\n",
        "fruits_tuple = (\"apple\", \"banana\", \"cherry\")\n",
        "print(\"Original Tuple:\", fruits_tuple)\n",
        "\n",
        "# Let's try to change the second item\n",
        "# This will cause an error!\n",
        "fruits_tuple[1] = \"blueberry\"  # ❌ ERROR!\n"
      ],
      "metadata": {
        "id": "P7f6E9fi-tR-",
        "colab": {
          "base_uri": "https://localhost:8080/",
          "height": 193
        },
        "outputId": "cf77187d-6bf4-41d7-c2f9-bb4f2c10fe8b"
      },
      "execution_count": 15,
      "outputs": [
        {
          "output_type": "stream",
          "name": "stdout",
          "text": [
            "Original Tuple: ('apple', 'banana', 'cherry')\n"
          ]
        },
        {
          "output_type": "error",
          "ename": "TypeError",
          "evalue": "'tuple' object does not support item assignment",
          "traceback": [
            "\u001b[0;31m---------------------------------------------------------------------------\u001b[0m",
            "\u001b[0;31mTypeError\u001b[0m                                 Traceback (most recent call last)",
            "\u001b[0;32m/tmp/ipython-input-2537607969.py\u001b[0m in \u001b[0;36m<cell line: 0>\u001b[0;34m()\u001b[0m\n\u001b[1;32m      5\u001b[0m \u001b[0;31m# Let's try to change the second item\u001b[0m\u001b[0;34m\u001b[0m\u001b[0;34m\u001b[0m\u001b[0m\n\u001b[1;32m      6\u001b[0m \u001b[0;31m# This will cause an error!\u001b[0m\u001b[0;34m\u001b[0m\u001b[0;34m\u001b[0m\u001b[0m\n\u001b[0;32m----> 7\u001b[0;31m \u001b[0mfruits_tuple\u001b[0m\u001b[0;34m[\u001b[0m\u001b[0;36m1\u001b[0m\u001b[0;34m]\u001b[0m \u001b[0;34m=\u001b[0m \u001b[0;34m\"blueberry\"\u001b[0m  \u001b[0;31m# ❌ ERROR!\u001b[0m\u001b[0;34m\u001b[0m\u001b[0;34m\u001b[0m\u001b[0m\n\u001b[0m",
            "\u001b[0;31mTypeError\u001b[0m: 'tuple' object does not support item assignment"
          ]
        }
      ]
    },
    {
      "cell_type": "markdown",
      "source": [
        "### 🔍 ***List vs Tuple***\n",
        "\n",
        "| Feature              | List                          | Tuple                         |\n",
        "|----------------------|-------------------------------|-------------------------------|\n",
        "| Syntax               | `[\"apple\", \"banana\"]`         | `(\"apple\", \"banana\")`         |\n",
        "| Changeable (Mutable) | ✅ Yes – you can modify it     | ❌ No – fixed after creation  |\n",
        "| Add/Remove items     | ✅ Yes – use `.append()` etc. | ❌ No                         |\n",
        "| Use Case             | When data may change          | When data must stay the same  |\n",
        "\n",
        "👉 Use **lists** when your data can grow or change.  \n",
        "👉 Use **tuples** when your data must stay safe and unchanged.\n"
      ],
      "metadata": {
        "id": "y9WgX7lz_PtI"
      }
    },
    {
      "cell_type": "markdown",
      "source": [
        "## **Dictionaries - Pairing Data**"
      ],
      "metadata": {
        "id": "ZK37qn0Z7lYC"
      }
    },
    {
      "cell_type": "code",
      "source": [
        "# Dictionary of student marks\n",
        "marks = {\n",
        "    \"Ali\": 85,\n",
        "    \"Zara\": 92,\n",
        "    \"Ahmed\": 76,\n",
        "    \"4200099064441\": 24\n",
        "}\n",
        "\n",
        "age_dict ={\n",
        "    \"Huzaifa\": 18, # \"key\": value\n",
        "    \"Ayesha\": 19,\n",
        "    \"Mustafa\": 8\n",
        "}\n",
        "\n",
        "\n",
        "print(\"Zara's marks:\", marks[\"4200099064441\"])\n",
        "\n",
        "# Adding a new student\n",
        "marks[\"Bilal\"] = 88\n",
        "print(\"Updated Marks:\", marks)\n"
      ],
      "metadata": {
        "id": "6ISV626y7kl3",
        "colab": {
          "base_uri": "https://localhost:8080/"
        },
        "outputId": "9f6ec97e-a81a-4293-d520-4f357d1a662c"
      },
      "execution_count": 16,
      "outputs": [
        {
          "output_type": "stream",
          "name": "stdout",
          "text": [
            "Zara's marks: 24\n",
            "Updated Marks: {'Ali': 85, 'Zara': 92, 'Ahmed': 76, '4200099064441': 24, 'Bilal': 88}\n"
          ]
        }
      ]
    },
    {
      "cell_type": "markdown",
      "source": [
        "## **Sets - Keeping Unique Items**\n"
      ],
      "metadata": {
        "id": "jQsHUi-97ygo"
      }
    },
    {
      "cell_type": "markdown",
      "source": [
        "📌 Note: Sets don’t keep order and remove duplicates automatically."
      ],
      "metadata": {
        "id": "_jTNDwMF8CfL"
      }
    },
    {
      "cell_type": "code",
      "source": [
        "# Set of unique classes\n",
        "classes = {\"Math\", \"Science\", \"English\", \"Math\"}\n",
        "print(\"Classes:\", classes)"
      ],
      "metadata": {
        "id": "dX2wphVJ74bC",
        "colab": {
          "base_uri": "https://localhost:8080/"
        },
        "outputId": "ee0834c7-6f63-41fc-af12-6c72ab4bf496"
      },
      "execution_count": 17,
      "outputs": [
        {
          "output_type": "stream",
          "name": "stdout",
          "text": [
            "Classes: {'English', 'Science', 'Math'}\n"
          ]
        }
      ]
    },
    {
      "cell_type": "markdown",
      "source": [
        "---\n",
        "\n",
        "## 📊 ***Comparison of Python Data Structures***\n",
        "\n",
        "| Feature       | List                        | Tuple                       | Set                         | Dictionary                     |\n",
        "|---------------|-----------------------------|-----------------------------|------------------------------|--------------------------------|\n",
        "| Ordered?      | ✅ Yes                      | ✅ Yes                      | ❌ No                       | ✅ Yes (from Python 3.7+)      |\n",
        "| Changeable?   | ✅ Yes (mutable)            | ❌ No (immutable)           | ✅ Yes                       | ✅ Yes                         |\n",
        "| Duplicates?   | ✅ Yes                      | ✅ Yes                      | ❌ No (only unique values)   | ❌ No duplicate keys           |\n",
        "| Access by?    | Index (0, 1, 2...)          | Index (0, 1, 2...)          | No index (loop only)         | Key (`dict[\"key\"]`)           |\n",
        "| Use Case      | Ordered collection of items | Fixed data like coordinates | Unique values like tags      | Paired data like name:score   |\n",
        "\n",
        "---\n",
        "\n",
        "### 🧠 When to Use What?\n",
        "\n",
        "- **List**: When you need a changeable sequence – like a shopping list or student names.\n",
        "- **Tuple**: When data shouldn't change – like screen size or date of birth.\n",
        "- **Set**: When you need **only unique items** – like subject names or tags.\n",
        "- **Dictionary**: When pairing items – like student names with their marks.\n"
      ],
      "metadata": {
        "id": "G4po9Nuk9zED"
      }
    },
    {
      "cell_type": "markdown",
      "source": [
        "---\n",
        "\n",
        "\n",
        "## **Mini Project: Grade Book App (Basic)**"
      ],
      "metadata": {
        "id": "qm8URHTu8hWX"
      }
    },
    {
      "cell_type": "markdown",
      "source": [
        "🎯 Challenge:\n",
        "\n",
        "- Add 2 more students.\n",
        "- Try printing only the students who scored more than 80."
      ],
      "metadata": {
        "id": "wy0atZNk9B_y"
      }
    },
    {
      "cell_type": "code",
      "source": [
        "\n",
        "# Create a list of students and their marks using a dictionary\n",
        "\n",
        "\n",
        "\n",
        "# Print all students and their marks\n",
        "\n"
      ],
      "metadata": {
        "id": "gioLc_HS8pZI"
      },
      "execution_count": 19,
      "outputs": []
    },
    {
      "cell_type": "markdown",
      "source": [
        "## **🧪 Exercise: Let’s Practice!**"
      ],
      "metadata": {
        "id": "GvFrqVHz83io"
      }
    },
    {
      "cell_type": "code",
      "source": [
        "# TODO: Create your own list of 5 favorite foods\n",
        "# TODO: Make a dictionary of 3 countries and their capitals\n",
        "# TODO: Use print statements to show your results"
      ],
      "metadata": {
        "id": "dxiK1HM58B4o"
      },
      "execution_count": 20,
      "outputs": []
    },
    {
      "cell_type": "markdown",
      "metadata": {
        "id": "1F8cf-IfGJpu"
      },
      "source": [
        "# **Decisions Control: `if`, `elif`, `else`**\n",
        "\n",
        "Sometimes we want the computer to do different things depending on the situation.\n",
        "\n",
        "Just like:\n",
        "- If it's raining, take an umbrella.\n",
        "- If it's sunny, wear sunglasses.\n",
        "\n",
        "Python uses `if`, `elif`, and `else` to do this.\n"
      ]
    },
    {
      "cell_type": "code",
      "execution_count": 21,
      "metadata": {
        "colab": {
          "base_uri": "https://localhost:8080/"
        },
        "id": "8nK8ttFjGdOH",
        "outputId": "84a6959b-fd40-486a-c26b-92469818b58f"
      },
      "outputs": [
        {
          "output_type": "stream",
          "name": "stdout",
          "text": [
            "Wear sunglasses 😎\n"
          ]
        }
      ],
      "source": [
        "weather = \"sunny\"\n",
        "\n",
        "if weather == \"sunny\":\n",
        "    print(\"Wear sunglasses 😎\")\n",
        "elif weather == \"rainy\":\n",
        "    print(\"Take an umbrella ☔\")\n",
        "else:\n",
        "    print(\"Check the weather app again 🧐\")\n"
      ]
    },
    {
      "cell_type": "markdown",
      "metadata": {
        "id": "fp-QgQGgLwv6"
      },
      "source": [
        "This ladder perfectly reseumbles how computer processes IF ELSE Logic\n",
        "\n",
        "<img src = \"https://kodular-community.s3.dualstack.eu-west-1.amazonaws.com/original/3X/2/9/299d85b97d5c37a343d1e5ddc6b10f8752de3be7.jpeg\">"
      ]
    },
    {
      "cell_type": "markdown",
      "metadata": {
        "id": "84E0D7PyGeRc"
      },
      "source": [
        "## **✅ Practice: Student Grade Check**\n",
        "\n",
        "Write a program that prints a message based on the student's marks.\n",
        "\n",
        "- 90 or more → \"Excellent!\"\n",
        "- 70 to 89 → \"Good job!\"\n",
        "- Below 70 → \"Needs improvement\"\n"
      ]
    },
    {
      "cell_type": "code",
      "execution_count": 21,
      "metadata": {
        "id": "YZSpzJPaG8K3"
      },
      "outputs": [],
      "source": [
        "\n"
      ]
    },
    {
      "cell_type": "markdown",
      "metadata": {
        "id": "vdfui6hPO_8K"
      },
      "source": [
        "<img src = \"https://encrypted-tbn0.gstatic.com/images?q=tbn:ANd9GcQduBA-HRHwwLXIgTpHvKdxq7fwdlO_w4e4Sw&s\">"
      ]
    },
    {
      "cell_type": "markdown",
      "metadata": {
        "id": "jGlntZahG_ZL"
      },
      "source": [
        "## **🔗 Logical Operators: `and`, `or`, `not`**\n",
        "\n",
        "You can also check more than one condition at a time.\n",
        "\n",
        "- `and` → both must be true  \n",
        "- `or` → at least one must be true  \n",
        "- `not` → flips true to false, or false to true\n"
      ]
    },
    {
      "cell_type": "code",
      "execution_count": 22,
      "metadata": {
        "colab": {
          "base_uri": "https://localhost:8080/"
        },
        "id": "9f9v3LYuHFFn",
        "outputId": "7c36c78a-f4f6-40e8-e26f-a00dd848d14c"
      },
      "outputs": [
        {
          "output_type": "stream",
          "name": "stdout",
          "text": [
            "You need a ticket 🎫\n"
          ]
        }
      ],
      "source": [
        "age = 10\n",
        "has_ticket = False\n",
        "\n",
        "if age >= 10 and has_ticket:\n",
        "    print(\"You can enter the movie 🍿\")\n",
        "elif age >= 10 and not has_ticket:\n",
        "    print(\"You need a ticket 🎫\")\n",
        "else:\n",
        "    print(\"Sorry, not allowed 🚫\")\n"
      ]
    },
    {
      "cell_type": "markdown",
      "metadata": {
        "id": "UidTww2dHSgM"
      },
      "source": [
        "### **🧪 Try This:**\n",
        "\n",
        "Make a program to check if a student can go on a field trip.\n",
        "\n",
        "They can go if:\n",
        "- They have a permission slip **or**\n",
        "- Their parent is with them.\n"
      ]
    },
    {
      "cell_type": "code",
      "execution_count": 23,
      "metadata": {
        "colab": {
          "base_uri": "https://localhost:8080/"
        },
        "id": "gvcJSyDlHYZK",
        "outputId": "73423cd3-3f27-41b2-d84a-43c35df2a256"
      },
      "outputs": [
        {
          "output_type": "stream",
          "name": "stdout",
          "text": [
            "Sorry, you can't go this time.\n"
          ]
        }
      ],
      "source": [
        "has_permission = True\n",
        "with_parent = False\n",
        "\n",
        "if has_permission and with_parent:\n",
        "    print(\"You can go on the trip! 🚌\")\n",
        "else:\n",
        "    print(\"Sorry, you can't go this time.\")\n"
      ]
    },
    {
      "cell_type": "markdown",
      "metadata": {
        "id": "VJu6o7LsLL0q"
      },
      "source": [
        "---\n",
        "\n",
        "**`Below is te iconic and hysterical meme`**\n",
        "\n",
        "<img src = \"https://media.licdn.com/dms/image/v2/D4D22AQGwGKoc_4aqAw/feedshare-shrink_2048_1536/feedshare-shrink_2048_1536/0/1710168701460?e=2147483647&v=beta&t=UNvovmr8ITSLFxXneV8s7XUwNz8VMddr171RwuqlSUs\">\n"
      ]
    },
    {
      "cell_type": "code",
      "source": [],
      "metadata": {
        "id": "iK8xcBdRPT9n"
      },
      "execution_count": null,
      "outputs": []
    }
  ]
}